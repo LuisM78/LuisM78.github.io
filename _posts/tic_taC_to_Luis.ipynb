{
 "cells": [
  {
   "cell_type": "code",
   "execution_count": 1,
   "metadata": {
    "collapsed": false
   },
   "outputs": [],
   "source": [
    "from IPython.display import clear_output"
   ]
  },
  {
   "cell_type": "code",
   "execution_count": 2,
   "metadata": {
    "collapsed": true
   },
   "outputs": [],
   "source": [
    "import time\n"
   ]
  },
  {
   "cell_type": "code",
   "execution_count": 3,
   "metadata": {
    "collapsed": true
   },
   "outputs": [],
   "source": [
    "boardt = '_|_|_'"
   ]
  },
  {
   "cell_type": "code",
   "execution_count": 4,
   "metadata": {
    "collapsed": true
   },
   "outputs": [],
   "source": [
    "boardm='_|_|_'"
   ]
  },
  {
   "cell_type": "code",
   "execution_count": 5,
   "metadata": {
    "collapsed": true
   },
   "outputs": [],
   "source": [
    "boardb = ' | | '"
   ]
  },
  {
   "cell_type": "code",
   "execution_count": 6,
   "metadata": {
    "collapsed": false
   },
   "outputs": [
    {
     "name": "stdout",
     "output_type": "stream",
     "text": [
      "_|_|_\n",
      "_|_|_\n",
      " | | \n"
     ]
    }
   ],
   "source": [
    "print boardt\n",
    "print boardm\n",
    "print boardb"
   ]
  },
  {
   "cell_type": "code",
   "execution_count": 7,
   "metadata": {
    "collapsed": false
   },
   "outputs": [],
   "source": [
    "def player_move(player,inde):\n",
    "    global boardt,boardm,boardb\n",
    "    if inde == 1 and boardt[0]=='_':\n",
    "        lt = list(boardt)\n",
    "        lt[0]=str(player)\n",
    "        boardt = ''.join(lt)\n",
    "    if inde == 2 and boardt[2]=='_':\n",
    "        lt = list(boardt)\n",
    "        lt[2]=str(player)\n",
    "        boardt = ''.join(lt)\n",
    "    if inde == 3 and boardt[4]=='_':\n",
    "        lt = list(boardt)\n",
    "        lt[4]=str(player)\n",
    "        boardt = ''.join(lt) \n",
    "    if inde == 4 and boardm[0]=='_':\n",
    "        lt = list(boardm)\n",
    "        lt[0]=str(player)\n",
    "        boardm = ''.join(lt)\n",
    "    if inde == 5 and boardm[2]=='_':\n",
    "        lt = list(boardm)\n",
    "        lt[2]=str(player)\n",
    "        boardm = ''.join(lt) \n",
    "    if inde == 6 and boardm[4]=='_':\n",
    "        lt = list(boardm)\n",
    "        lt[4]=str(player)\n",
    "        boardm = ''.join(lt)  \n",
    "    if inde == 7 and boardb[0]==' ':\n",
    "        lt = list(boardb)\n",
    "        lt[0]=str(player)\n",
    "        boardb = ''.join(lt)\n",
    "    if inde == 8 and boardb[2]==' ':\n",
    "        lt = list(boardb)\n",
    "        lt[2]=str(player)\n",
    "        boardb = ''.join(lt) \n",
    "    if inde == 9 and boardb[4]==' ':\n",
    "        lt = list(boardb)\n",
    "        lt[4]=str(player)\n",
    "        boardb = ''.join(lt)    \n",
    "        \n",
    "        \n",
    "    pbrd()\n",
    "\n",
    "def pbrd():\n",
    "    print 'Select the corresponding location by typing the number'\n",
    "    print \n",
    "    print 'On the left board game'\n",
    "    print boardt + '                    1|2|3'  \n",
    "    print boardm + '                    4|5|6'  \n",
    "    print boardb + '                    7|8|9'  \n",
    "    \n",
    "\n",
    "def selectplayer():\n",
    "    pbrd()\n",
    "    print 'Please select a player number, 0 or 1 (only those two options)'\n",
    "    player1 =input()\n",
    "    if player1 ==0:\n",
    "        player2 = 1\n",
    "    if player1 ==1:\n",
    "        player2 = 0\n",
    "    print ' Player 1 is: ' , player1\n",
    "    print ' Player 2 is: ' , player2\n",
    "    \n",
    "    i = range(1,10)\n",
    "    print i\n",
    "    \n",
    "    for move in i:\n",
    "        \n",
    "        print \"select your index\"\n",
    "        \n",
    "        if move%2 == 0:\n",
    "            time.sleep(0.25)\n",
    "            clear_output()\n",
    "            pbrd()\n",
    "            print \"Right now the player is: \", player1\n",
    "            index=input()\n",
    "            player_move(player1,index)\n",
    "            \n",
    "            clear_output()\n",
    "            \n",
    "        if move%2 == 1:\n",
    "            time.sleep(0.25)\n",
    "            clear_output()\n",
    "            pbrd()\n",
    "            print \"Right now the player is: \", player2\n",
    "            index=input()\n",
    "            player_move(player2,index)\n",
    "            \n",
    "        a=False    \n",
    "        a = checkwins()    \n",
    "        if a==True:\n",
    "            pbrd()\n",
    "            clearboard()\n",
    "            break\n",
    "        "
   ]
  },
  {
   "cell_type": "code",
   "execution_count": 8,
   "metadata": {
    "collapsed": false
   },
   "outputs": [
    {
     "name": "stdout",
     "output_type": "stream",
     "text": [
      "_|_|_\n"
     ]
    }
   ],
   "source": [
    "print boardt"
   ]
  },
  {
   "cell_type": "code",
   "execution_count": 9,
   "metadata": {
    "collapsed": false
   },
   "outputs": [
    {
     "name": "stdout",
     "output_type": "stream",
     "text": [
      "_|_|_\n"
     ]
    }
   ],
   "source": [
    "print boardm"
   ]
  },
  {
   "cell_type": "code",
   "execution_count": 10,
   "metadata": {
    "collapsed": false
   },
   "outputs": [
    {
     "name": "stdout",
     "output_type": "stream",
     "text": [
      " | | \n"
     ]
    }
   ],
   "source": [
    "print boardb"
   ]
  },
  {
   "cell_type": "code",
   "execution_count": 11,
   "metadata": {
    "collapsed": false
   },
   "outputs": [],
   "source": [
    "#lt1 = list(boardt)\n",
    "#lt1[0]='0'\n",
    "#lt1[2]='0'\n",
    "#lt1[4]='0'\n",
    "#boardt=''.join(lt1)\n",
    "\n",
    "\n",
    "\n",
    "\n"
   ]
  },
  {
   "cell_type": "code",
   "execution_count": 12,
   "metadata": {
    "collapsed": false
   },
   "outputs": [],
   "source": [
    "def checkwins():\n",
    "    if list(boardt)[0]=='1' and list(boardt)[2]=='1' and list(boardt)[4]=='1':\n",
    "        clear_output()\n",
    "        print '***************************************'\n",
    "        print 'Player with \"1\" wins!', 'First top row' \n",
    "        print '**************************************'\n",
    "        print 'Run again the cell to play again'\n",
    "        print \n",
    "        return(True)\n",
    "    if list(boardm)[0]=='1' and list(boardm)[2]=='1' and list(boardm)[4]=='1':\n",
    "        clear_output()\n",
    "        print '***************************************'\n",
    "        print 'player with \"1\" wins!' , 'Middle row'\n",
    "        print '**************************************'\n",
    "        print 'Run again the cell to play again'\n",
    "        print \n",
    "        return(True)\n",
    "    if list(boardb)[0]=='1' and list(boardb)[2]=='1' and list(boardb)[4]=='1':\n",
    "        clear_output()\n",
    "        print 'player with \"1\" wins!', 'Bottom row'\n",
    "        print '**************************************'\n",
    "        print 'Run again the cell to play again'\n",
    "        print \n",
    "        return(True)\n",
    "    if list(boardt)[0]=='1' and list(boardm)[0]=='1' and list(boardb)[0]=='1':\n",
    "        clear_output()\n",
    "        print 'player with \"1\" wins!', 'First column'  \n",
    "        print '**************************************'\n",
    "        print 'Run again the cell to play again'\n",
    "        print \n",
    "        return(True)\n",
    "    if list(boardt)[2]=='1' and list(boardm)[2]=='1' and list(boardb)[2]=='1':\n",
    "        clear_output()\n",
    "        print 'player with \"1\" wins!' , 'Second Column'\n",
    "        print '**************************************'\n",
    "        print 'Run again the cell to play again'\n",
    "        print \n",
    "        return(True)\n",
    "    if list(boardt)[4]=='1' and list(boardm)[4]=='1' and list(boardb)[4]=='1':\n",
    "        clear_output()\n",
    "        print 'player with \"1\" wins!', 'Third Column'\n",
    "        print '**************************************'\n",
    "        print 'Run again the cell to play again'\n",
    "        print \n",
    "        return(True)\n",
    "    if list(boardt)[0]=='1' and list(boardm)[2]=='1' and list(boardb)[4]=='1':\n",
    "        clear_output()\n",
    "        print 'player with \"1\" wins!', 'Diagonal top to bottom'\n",
    "        print '**************************************'\n",
    "        print 'Run again the cell to play again'\n",
    "        print \n",
    "        return(True)\n",
    "    if list(boardt)[4]=='1' and list(boardm)[2]=='1' and list(boardb)[0]=='1':\n",
    "        clear_output()\n",
    "        print 'player with \"1\" wins!', 'Diagonal bottom to bottom'\n",
    "        print '**************************************'\n",
    "        print 'Run again the cell to play again'\n",
    "        print \n",
    "        return(True)\n",
    "    if list(boardt)[0]=='0' and list(boardt)[2]=='0' and list(boardt)[4]=='0':\n",
    "        clear_output()\n",
    "        print 'player with \"0\" wins!', 'First top row'\n",
    "        print '**************************************'\n",
    "        print 'Run again the cell to play again'\n",
    "        print \n",
    "        return(True)\n",
    "    if list(boardm)[0]=='0' and list(boardm)[2]=='0' and list(boardm)[4]=='0':\n",
    "        clear_output()\n",
    "        print 'player with \"0\" wins!' , 'Middle row'\n",
    "        print '**************************************'\n",
    "        print 'Run again the cell to play again'\n",
    "        print \n",
    "        return(True)\n",
    "    if list(boardb)[0]=='0' and list(boardb)[2]=='0' and list(boardb)[4]=='0':\n",
    "        clear_output()\n",
    "        print 'player with \"0\" wins!', 'Bottom row'\n",
    "        print '**************************************'\n",
    "        print 'Run again the cell to play again'\n",
    "        print \n",
    "        return(True)\n",
    "    if list(boardt)[0]=='0' and list(boardm)[0]=='0' and list(boardb)[0]=='0':\n",
    "        clear_output()\n",
    "        print 'player with \"0\" wins!', 'First column'\n",
    "        print '**************************************'\n",
    "        print 'Run again the cell to play again'\n",
    "        print \n",
    "        return(True)\n",
    "    if list(boardt)[2]=='0' and list(boardm)[2]=='0' and list(boardb)[2]=='0':\n",
    "        clear_output()\n",
    "        print 'player with \"0\" wins!' , 'Second Column'\n",
    "        print '**************************************'\n",
    "        print 'Run again the cell to play again'\n",
    "        print \n",
    "        return(True)\n",
    "    if list(boardt)[4]=='0' and list(boardm)[4]=='0' and list(boardb)[4]=='0':\n",
    "        clear_output()\n",
    "        print 'player with \"0\" wins!', 'Third Column'\n",
    "        print '**************************************'\n",
    "        print 'Run again the cell to play again'\n",
    "        print \n",
    "        return(True)\n",
    "    if list(boardt)[0]=='0' and list(boardm)[2]=='0' and list(boardb)[4]=='0':\n",
    "        clear_output()\n",
    "        print 'player with \"0\" wins!', 'Diagonal top to bottom'\n",
    "        print '**************************************'\n",
    "        print 'Run again the cell to play again'\n",
    "        print \n",
    "        return(True)\n",
    "    if list(boardt)[4]=='0' and list(boardm)[2]=='0' and list(boardb)[0]=='0':\n",
    "        clear_output()\n",
    "        print 'player with \"0\" wins!', 'Diagonal bottom to bottom'\n",
    "        print '**************************************'\n",
    "        print 'Run again the cell to play again'\n",
    "        print \n",
    "        return(True)\n"
   ]
  },
  {
   "cell_type": "code",
   "execution_count": 13,
   "metadata": {
    "collapsed": true
   },
   "outputs": [],
   "source": [
    "def clearboard():\n",
    "    global boardt,boardm,boardb\n",
    "    boardt = '_|_|_'\n",
    "    boardm = '_|_|_'\n",
    "    boardb = ' | | '\n",
    "    \n"
   ]
  },
  {
   "cell_type": "code",
   "execution_count": 14,
   "metadata": {
    "collapsed": false,
    "scrolled": true
   },
   "outputs": [
    {
     "name": "stdout",
     "output_type": "stream",
     "text": [
      "player with \"1\" wins! Diagonal top to bottom\n",
      "**************************************\n",
      "Run again the cell to play again\n",
      "\n",
      "Select the corresponding location by typing the number\n",
      "\n",
      "On the left board game\n",
      "1|_|0                    1|2|3\n",
      "_|1|0                    4|5|6\n",
      " | |1                    7|8|9\n"
     ]
    }
   ],
   "source": [
    "selectplayer()"
   ]
  },
  {
   "cell_type": "code",
   "execution_count": null,
   "metadata": {
    "collapsed": false
   },
   "outputs": [],
   "source": []
  },
  {
   "cell_type": "code",
   "execution_count": null,
   "metadata": {
    "collapsed": true
   },
   "outputs": [],
   "source": []
  },
  {
   "cell_type": "code",
   "execution_count": null,
   "metadata": {
    "collapsed": true
   },
   "outputs": [],
   "source": []
  },
  {
   "cell_type": "code",
   "execution_count": null,
   "metadata": {
    "collapsed": true
   },
   "outputs": [],
   "source": []
  },
  {
   "cell_type": "code",
   "execution_count": null,
   "metadata": {
    "collapsed": true
   },
   "outputs": [],
   "source": []
  },
  {
   "cell_type": "code",
   "execution_count": null,
   "metadata": {
    "collapsed": true
   },
   "outputs": [],
   "source": []
  },
  {
   "cell_type": "code",
   "execution_count": null,
   "metadata": {
    "collapsed": true
   },
   "outputs": [],
   "source": []
  },
  {
   "cell_type": "code",
   "execution_count": null,
   "metadata": {
    "collapsed": true
   },
   "outputs": [],
   "source": []
  },
  {
   "cell_type": "code",
   "execution_count": null,
   "metadata": {
    "collapsed": true
   },
   "outputs": [],
   "source": []
  },
  {
   "cell_type": "code",
   "execution_count": null,
   "metadata": {
    "collapsed": true
   },
   "outputs": [],
   "source": []
  },
  {
   "cell_type": "code",
   "execution_count": null,
   "metadata": {
    "collapsed": true
   },
   "outputs": [],
   "source": []
  },
  {
   "cell_type": "code",
   "execution_count": null,
   "metadata": {
    "collapsed": true
   },
   "outputs": [],
   "source": []
  }
 ],
 "metadata": {
  "kernelspec": {
   "display_name": "Python 2",
   "language": "python",
   "name": "python2"
  },
  "language_info": {
   "codemirror_mode": {
    "name": "ipython",
    "version": 2
   },
   "file_extension": ".py",
   "mimetype": "text/x-python",
   "name": "python",
   "nbconvert_exporter": "python",
   "pygments_lexer": "ipython2",
   "version": "2.7.11"
  }
 },
 "nbformat": 4,
 "nbformat_minor": 0
}
